{
 "cells": [
  {
   "cell_type": "markdown",
   "metadata": {},
   "source": [
    "# Individual Assignment. Exploratory Data Analysis\n",
    "\n",
    "\n",
    "\n",
    "\n",
    "\n",
    "In part 1 of this assignment, we will focus on exploratory data analysis of stock prices. Keep in mind, this assignment is just meant to practice your visualization and pandas skills, it is not meant to be a robust financial analysis or be taken as financial advice.\n",
    "____\n",
    "** NOTE: This project is challenging and you have to look things up on your own to try to solve the tasks issued. **\n",
    "____\n",
    "We'll focus on bank stocks and see how they progressed throughout the [financial crisis](https://en.wikipedia.org/wiki/Financial_crisis_of_2007%E2%80%9308) all the way to early 2017."
   ]
  },
  {
   "cell_type": "markdown",
   "metadata": {},
   "source": [
    "# Part 1\n",
    "\n",
    "\n",
    "## Get the Data\n",
    "\n",
    "In this section we will learn how to use pandas to directly read data from Yahoo finance using pandas!\n",
    "\n",
    "First we need to start with the proper imports, which we've already laid out for you here.\n",
    "\n",
    "*Note: [You'll need to install pandas-datareader for this to work!](https://github.com/pydata/pandas-datareader) Pandas datareader allows you to [read stock information directly from the internet](http://pandas.pydata.org/pandas-docs/stable/remote_data.html) Use these links for install guidance (**pip install pandas-datareader**).*\n",
    "\n",
    "### The Imports\n"
   ]
  },
  {
   "cell_type": "code",
   "execution_count": 1,
   "metadata": {},
   "outputs": [
    {
     "name": "stdout",
     "output_type": "stream",
     "text": [
      "Collecting pandas-datareader\n",
      "  Downloading https://files.pythonhosted.org/packages/14/52/accb990baebe0063977f26e02df36aa7eb4015ed4e86f828cd76273cd6f1/pandas_datareader-0.8.1-py2.py3-none-any.whl (107kB)\n",
      "Requirement already satisfied: pandas>=0.21 in c:\\users\\hrquc\\anaconda3\\lib\\site-packages (from pandas-datareader) (0.24.2)\n",
      "Requirement already satisfied: lxml in c:\\users\\hrquc\\anaconda3\\lib\\site-packages (from pandas-datareader) (4.3.4)\n",
      "Requirement already satisfied: requests>=2.3.0 in c:\\users\\hrquc\\anaconda3\\lib\\site-packages (from pandas-datareader) (2.22.0)\n",
      "Requirement already satisfied: numpy>=1.12.0 in c:\\users\\hrquc\\anaconda3\\lib\\site-packages (from pandas>=0.21->pandas-datareader) (1.16.4)\n",
      "Requirement already satisfied: python-dateutil>=2.5.0 in c:\\users\\hrquc\\anaconda3\\lib\\site-packages (from pandas>=0.21->pandas-datareader) (2.8.0)\n",
      "Requirement already satisfied: pytz>=2011k in c:\\users\\hrquc\\anaconda3\\lib\\site-packages (from pandas>=0.21->pandas-datareader) (2019.1)\n",
      "Requirement already satisfied: chardet<3.1.0,>=3.0.2 in c:\\users\\hrquc\\anaconda3\\lib\\site-packages (from requests>=2.3.0->pandas-datareader) (3.0.4)\n",
      "Requirement already satisfied: urllib3!=1.25.0,!=1.25.1,<1.26,>=1.21.1 in c:\\users\\hrquc\\anaconda3\\lib\\site-packages (from requests>=2.3.0->pandas-datareader) (1.24.2)\n",
      "Requirement already satisfied: idna<2.9,>=2.5 in c:\\users\\hrquc\\anaconda3\\lib\\site-packages (from requests>=2.3.0->pandas-datareader) (2.8)\n",
      "Requirement already satisfied: certifi>=2017.4.17 in c:\\users\\hrquc\\anaconda3\\lib\\site-packages (from requests>=2.3.0->pandas-datareader) (2019.6.16)\n",
      "Requirement already satisfied: six>=1.5 in c:\\users\\hrquc\\anaconda3\\lib\\site-packages (from python-dateutil>=2.5.0->pandas>=0.21->pandas-datareader) (1.12.0)\n",
      "Installing collected packages: pandas-datareader\n",
      "Successfully installed pandas-datareader-0.8.1\n",
      "Collecting pandas\n",
      "  Downloading https://files.pythonhosted.org/packages/02/d0/1e8e60e61e748338e3a40e42f5dfeee63ccdecfc4f0894122b890bfb009a/pandas-0.25.3-cp37-cp37m-win_amd64.whl (9.2MB)\n",
      "Requirement already satisfied, skipping upgrade: python-dateutil>=2.6.1 in c:\\users\\hrquc\\anaconda3\\lib\\site-packages (from pandas) (2.8.0)\n",
      "Requirement already satisfied, skipping upgrade: numpy>=1.13.3 in c:\\users\\hrquc\\anaconda3\\lib\\site-packages (from pandas) (1.16.4)\n",
      "Requirement already satisfied, skipping upgrade: pytz>=2017.2 in c:\\users\\hrquc\\anaconda3\\lib\\site-packages (from pandas) (2019.1)\n",
      "Requirement already satisfied, skipping upgrade: six>=1.5 in c:\\users\\hrquc\\anaconda3\\lib\\site-packages (from python-dateutil>=2.6.1->pandas) (1.12.0)\n",
      "Installing collected packages: pandas\n",
      "  Found existing installation: pandas 0.24.2\n",
      "    Uninstalling pandas-0.24.2:\n",
      "      Successfully uninstalled pandas-0.24.2\n",
      "Successfully installed pandas-0.25.3\n"
     ]
    }
   ],
   "source": [
    "!pip install pandas-datareader\n",
    "!pip install --upgrade pandas\n",
    "import pandas as pd\n",
    "import numpy as np\n",
    "pd.core.common.is_list_like = pd.api.types.is_list_like\n",
    "from pandas_datareader import data, wb\n",
    "\n",
    "import datetime\n",
    "%matplotlib inline"
   ]
  },
  {
   "cell_type": "markdown",
   "metadata": {},
   "source": [
    "## Data\n",
    "\n",
    "We need to get data using pandas datareader. We will get stock information for the following banks:\n",
    "*  Bank of America\n",
    "* CitiGroup\n",
    "* Goldman Sachs\n",
    "* JPMorgan Chase\n",
    "* Morgan Stanley\n",
    "* Wells Fargo\n",
    "\n",
    "** Figure out how to get the stock data from Jan 1st 2016 to Jan 1st 2017 for each of these banks. Set each bank to be a separate dataframe, with the variable name for that bank being its ticker symbol. This will involve a few steps:**\n",
    "1. Use datetime to set start and end datetime objects.\n",
    "2. Figure out the ticker symbol for each bank.\n",
    "2. Figure out how to use datareader to grab info on the stock.\n",
    "\n",
    "** Use [this documentation page](https://pandas-datareader.readthedocs.io/en/latest/) for hints and instructions (it should just be a matter of replacing certain values. Use google finance as a source, for example:**\n",
    "    \n",
    "    # Bank of America\n",
    "    BAC = data.DataReader(\"BAC\", 'google', start, end)\n"
   ]
  },
  {
   "cell_type": "code",
   "execution_count": 2,
   "metadata": {},
   "outputs": [],
   "source": [
    "start = datetime.datetime(2016, 1, 1)\n",
    "end = datetime.datetime(2017, 1, 1)"
   ]
  },
  {
   "cell_type": "code",
   "execution_count": 3,
   "metadata": {},
   "outputs": [],
   "source": [
    "# Bank of America\n",
    "BAC = data.DataReader(\"BAC\", 'yahoo', start, end)\n",
    "\n",
    "# CitiGroup\n",
    "C = data.DataReader(\"C\", 'yahoo', start, end)\n",
    "\n",
    "# Goldman Sachs\n",
    "GS = data.DataReader(\"GS\", 'yahoo', start, end)\n",
    "\n",
    "# JPMorgan Chase\n",
    "JPM = data.DataReader(\"JPM\", 'yahoo', start, end)\n",
    "\n",
    "# Morgan Stanley\n",
    "MS = data.DataReader(\"MS\", 'yahoo', start, end)\n",
    "\n",
    "# Wells Fargo\n",
    "WFC = data.DataReader(\"WFC\", 'yahoo', start, end)"
   ]
  },
  {
   "cell_type": "code",
   "execution_count": 4,
   "metadata": {},
   "outputs": [
    {
     "data": {
      "text/plain": [
       "2016-09-08    1\n",
       "2016-03-08    1\n",
       "2016-07-07    1\n",
       "2016-09-07    1\n",
       "2016-11-08    1\n",
       "             ..\n",
       "2016-06-08    1\n",
       "2016-08-09    1\n",
       "2016-09-09    1\n",
       "2016-10-10    1\n",
       "2016-08-08    1\n",
       "Name: Date, Length: 252, dtype: int64"
      ]
     },
     "execution_count": 4,
     "metadata": {},
     "output_type": "execute_result"
    }
   ],
   "source": [
    "WFC.reset_index(inplace=True)\n",
    "WFC[\"Date\"].value_counts()"
   ]
  },
  {
   "cell_type": "code",
   "execution_count": 5,
   "metadata": {},
   "outputs": [],
   "source": [
    "# Could also do this for a Panel Object\n",
    "df = data.DataReader(['BAC', 'C', 'GS', 'JPM', 'MS', 'WFC'],'yahoo', start, end)\n"
   ]
  },
  {
   "cell_type": "markdown",
   "metadata": {},
   "source": [
    "##### Add a Column_Company Name (this is filled out for you)"
   ]
  },
  {
   "cell_type": "code",
   "execution_count": 6,
   "metadata": {},
   "outputs": [],
   "source": [
    "BAC[\"Company\"]='BOA'\n",
    "C[\"Company\"]='Citi'\n",
    "GS[\"Company\"]='GoldmanSachs'\n",
    "JPM[\"Company\"]='JPMorgan'\n",
    "MS[\"Company\"]='MorganStanley'\n",
    "WFC[\"Company\"]='WellsFargo'"
   ]
  },
  {
   "cell_type": "code",
   "execution_count": 8,
   "metadata": {},
   "outputs": [
    {
     "data": {
      "text/html": [
       "<div>\n",
       "<style scoped>\n",
       "    .dataframe tbody tr th:only-of-type {\n",
       "        vertical-align: middle;\n",
       "    }\n",
       "\n",
       "    .dataframe tbody tr th {\n",
       "        vertical-align: top;\n",
       "    }\n",
       "\n",
       "    .dataframe thead tr th {\n",
       "        text-align: left;\n",
       "    }\n",
       "\n",
       "    .dataframe thead tr:last-of-type th {\n",
       "        text-align: right;\n",
       "    }\n",
       "</style>\n",
       "<table border=\"1\" class=\"dataframe\">\n",
       "  <thead>\n",
       "    <tr>\n",
       "      <th>Attributes</th>\n",
       "      <th colspan=\"6\" halign=\"left\">Adj Close</th>\n",
       "      <th colspan=\"4\" halign=\"left\">Close</th>\n",
       "      <th>...</th>\n",
       "      <th colspan=\"4\" halign=\"left\">Open</th>\n",
       "      <th colspan=\"6\" halign=\"left\">Volume</th>\n",
       "    </tr>\n",
       "    <tr>\n",
       "      <th>Symbols</th>\n",
       "      <th>BAC</th>\n",
       "      <th>C</th>\n",
       "      <th>GS</th>\n",
       "      <th>JPM</th>\n",
       "      <th>MS</th>\n",
       "      <th>WFC</th>\n",
       "      <th>BAC</th>\n",
       "      <th>C</th>\n",
       "      <th>GS</th>\n",
       "      <th>JPM</th>\n",
       "      <th>...</th>\n",
       "      <th>GS</th>\n",
       "      <th>JPM</th>\n",
       "      <th>MS</th>\n",
       "      <th>WFC</th>\n",
       "      <th>BAC</th>\n",
       "      <th>C</th>\n",
       "      <th>GS</th>\n",
       "      <th>JPM</th>\n",
       "      <th>MS</th>\n",
       "      <th>WFC</th>\n",
       "    </tr>\n",
       "    <tr>\n",
       "      <th>Date</th>\n",
       "      <th></th>\n",
       "      <th></th>\n",
       "      <th></th>\n",
       "      <th></th>\n",
       "      <th></th>\n",
       "      <th></th>\n",
       "      <th></th>\n",
       "      <th></th>\n",
       "      <th></th>\n",
       "      <th></th>\n",
       "      <th></th>\n",
       "      <th></th>\n",
       "      <th></th>\n",
       "      <th></th>\n",
       "      <th></th>\n",
       "      <th></th>\n",
       "      <th></th>\n",
       "      <th></th>\n",
       "      <th></th>\n",
       "      <th></th>\n",
       "      <th></th>\n",
       "    </tr>\n",
       "  </thead>\n",
       "  <tbody>\n",
       "    <tr>\n",
       "      <th>2016-01-04</th>\n",
       "      <td>15.373302</td>\n",
       "      <td>47.502300</td>\n",
       "      <td>167.424698</td>\n",
       "      <td>57.331673</td>\n",
       "      <td>28.655018</td>\n",
       "      <td>46.564404</td>\n",
       "      <td>16.43</td>\n",
       "      <td>51.130001</td>\n",
       "      <td>177.139999</td>\n",
       "      <td>63.619999</td>\n",
       "      <td>...</td>\n",
       "      <td>175.789993</td>\n",
       "      <td>63.950001</td>\n",
       "      <td>30.700001</td>\n",
       "      <td>53.090000</td>\n",
       "      <td>114888000.0</td>\n",
       "      <td>23440200.0</td>\n",
       "      <td>3745500.0</td>\n",
       "      <td>25393200.0</td>\n",
       "      <td>15749200.0</td>\n",
       "      <td>25985400.0</td>\n",
       "    </tr>\n",
       "    <tr>\n",
       "      <th>2016-01-05</th>\n",
       "      <td>15.373302</td>\n",
       "      <td>47.251461</td>\n",
       "      <td>164.541977</td>\n",
       "      <td>57.430794</td>\n",
       "      <td>28.472967</td>\n",
       "      <td>46.546799</td>\n",
       "      <td>16.43</td>\n",
       "      <td>50.860001</td>\n",
       "      <td>174.089996</td>\n",
       "      <td>63.730000</td>\n",
       "      <td>...</td>\n",
       "      <td>176.710007</td>\n",
       "      <td>63.700001</td>\n",
       "      <td>31.480000</td>\n",
       "      <td>52.930000</td>\n",
       "      <td>66670000.0</td>\n",
       "      <td>17444900.0</td>\n",
       "      <td>4521600.0</td>\n",
       "      <td>16566700.0</td>\n",
       "      <td>9850500.0</td>\n",
       "      <td>14759600.0</td>\n",
       "    </tr>\n",
       "    <tr>\n",
       "      <th>2016-01-06</th>\n",
       "      <td>15.045812</td>\n",
       "      <td>46.563961</td>\n",
       "      <td>160.525070</td>\n",
       "      <td>56.601742</td>\n",
       "      <td>27.762959</td>\n",
       "      <td>45.657928</td>\n",
       "      <td>16.08</td>\n",
       "      <td>50.119999</td>\n",
       "      <td>169.839996</td>\n",
       "      <td>62.810001</td>\n",
       "      <td>...</td>\n",
       "      <td>171.309998</td>\n",
       "      <td>62.720001</td>\n",
       "      <td>30.629999</td>\n",
       "      <td>52.119999</td>\n",
       "      <td>102760800.0</td>\n",
       "      <td>22501800.0</td>\n",
       "      <td>5539400.0</td>\n",
       "      <td>22961500.0</td>\n",
       "      <td>13057400.0</td>\n",
       "      <td>20026400.0</td>\n",
       "    </tr>\n",
       "    <tr>\n",
       "      <th>2016-01-07</th>\n",
       "      <td>14.503113</td>\n",
       "      <td>44.185600</td>\n",
       "      <td>155.591339</td>\n",
       "      <td>54.312798</td>\n",
       "      <td>26.379364</td>\n",
       "      <td>44.355438</td>\n",
       "      <td>15.50</td>\n",
       "      <td>47.560001</td>\n",
       "      <td>164.619995</td>\n",
       "      <td>60.270000</td>\n",
       "      <td>...</td>\n",
       "      <td>166.669998</td>\n",
       "      <td>61.459999</td>\n",
       "      <td>29.879999</td>\n",
       "      <td>51.009998</td>\n",
       "      <td>116255900.0</td>\n",
       "      <td>37902900.0</td>\n",
       "      <td>5687900.0</td>\n",
       "      <td>27630900.0</td>\n",
       "      <td>18138200.0</td>\n",
       "      <td>30425600.0</td>\n",
       "    </tr>\n",
       "    <tr>\n",
       "      <th>2016-01-08</th>\n",
       "      <td>14.222406</td>\n",
       "      <td>42.857063</td>\n",
       "      <td>154.948654</td>\n",
       "      <td>53.096230</td>\n",
       "      <td>25.833206</td>\n",
       "      <td>43.616177</td>\n",
       "      <td>15.20</td>\n",
       "      <td>46.130001</td>\n",
       "      <td>163.940002</td>\n",
       "      <td>58.919998</td>\n",
       "      <td>...</td>\n",
       "      <td>166.750000</td>\n",
       "      <td>61.130001</td>\n",
       "      <td>29.410000</td>\n",
       "      <td>50.799999</td>\n",
       "      <td>124782400.0</td>\n",
       "      <td>30643000.0</td>\n",
       "      <td>4929800.0</td>\n",
       "      <td>22373300.0</td>\n",
       "      <td>15295600.0</td>\n",
       "      <td>22981400.0</td>\n",
       "    </tr>\n",
       "  </tbody>\n",
       "</table>\n",
       "<p>5 rows × 36 columns</p>\n",
       "</div>"
      ],
      "text/plain": [
       "Attributes  Adj Close                                                          \\\n",
       "Symbols           BAC          C          GS        JPM         MS        WFC   \n",
       "Date                                                                            \n",
       "2016-01-04  15.373302  47.502300  167.424698  57.331673  28.655018  46.564404   \n",
       "2016-01-05  15.373302  47.251461  164.541977  57.430794  28.472967  46.546799   \n",
       "2016-01-06  15.045812  46.563961  160.525070  56.601742  27.762959  45.657928   \n",
       "2016-01-07  14.503113  44.185600  155.591339  54.312798  26.379364  44.355438   \n",
       "2016-01-08  14.222406  42.857063  154.948654  53.096230  25.833206  43.616177   \n",
       "\n",
       "Attributes  Close                                    ...        Open  \\\n",
       "Symbols       BAC          C          GS        JPM  ...          GS   \n",
       "Date                                                 ...               \n",
       "2016-01-04  16.43  51.130001  177.139999  63.619999  ...  175.789993   \n",
       "2016-01-05  16.43  50.860001  174.089996  63.730000  ...  176.710007   \n",
       "2016-01-06  16.08  50.119999  169.839996  62.810001  ...  171.309998   \n",
       "2016-01-07  15.50  47.560001  164.619995  60.270000  ...  166.669998   \n",
       "2016-01-08  15.20  46.130001  163.940002  58.919998  ...  166.750000   \n",
       "\n",
       "Attributes                                        Volume              \\\n",
       "Symbols           JPM         MS        WFC          BAC           C   \n",
       "Date                                                                   \n",
       "2016-01-04  63.950001  30.700001  53.090000  114888000.0  23440200.0   \n",
       "2016-01-05  63.700001  31.480000  52.930000   66670000.0  17444900.0   \n",
       "2016-01-06  62.720001  30.629999  52.119999  102760800.0  22501800.0   \n",
       "2016-01-07  61.459999  29.879999  51.009998  116255900.0  37902900.0   \n",
       "2016-01-08  61.130001  29.410000  50.799999  124782400.0  30643000.0   \n",
       "\n",
       "Attributes                                                 \n",
       "Symbols            GS         JPM          MS         WFC  \n",
       "Date                                                       \n",
       "2016-01-04  3745500.0  25393200.0  15749200.0  25985400.0  \n",
       "2016-01-05  4521600.0  16566700.0   9850500.0  14759600.0  \n",
       "2016-01-06  5539400.0  22961500.0  13057400.0  20026400.0  \n",
       "2016-01-07  5687900.0  27630900.0  18138200.0  30425600.0  \n",
       "2016-01-08  4929800.0  22373300.0  15295600.0  22981400.0  \n",
       "\n",
       "[5 rows x 36 columns]"
      ]
     },
     "execution_count": 8,
     "metadata": {},
     "output_type": "execute_result"
    }
   ],
   "source": [
    "df.head()"
   ]
  },
  {
   "cell_type": "markdown",
   "metadata": {},
   "source": [
    "##### Draw the closing prices of BAC"
   ]
  },
  {
   "cell_type": "code",
   "execution_count": 9,
   "metadata": {},
   "outputs": [],
   "source": [
    "import matplotlib.pyplot as plt\n",
    "\n",
    "# your code here"
   ]
  },
  {
   "cell_type": "code",
   "execution_count": 14,
   "metadata": {},
   "outputs": [
    {
     "data": {
      "text/plain": [
       "<matplotlib.axes._subplots.AxesSubplot at 0x2454e2d2f98>"
      ]
     },
     "execution_count": 14,
     "metadata": {},
     "output_type": "execute_result"
    },
    {
     "data": {
      "image/png": "[encoded data removed]",
      "text/plain": [
       "<Figure size 432x288 with 1 Axes>"
      ]
     },
     "metadata": {
      "needs_background": "light"
     },
     "output_type": "display_data"
    }
   ],
   "source": [
    "BAC['Close'].plot()"
   ]
  },
  {
   "cell_type": "markdown",
   "metadata": {},
   "source": [
    "##### Append all the data sets"
   ]
  },
  {
   "cell_type": "code",
   "execution_count": 23,
   "metadata": {},
   "outputs": [],
   "source": [
    "# your code here\n"
   ]
  },
  {
   "cell_type": "code",
   "execution_count": 27,
   "metadata": {},
   "outputs": [
    {
     "name": "stdout",
     "output_type": "stream",
     "text": [
      "Index(['High', 'Low', 'Open', 'Close', 'Volume', 'Adj Close', 'Company'], dtype='object')\n",
      "Index(['High', 'Low', 'Open', 'Close', 'Volume', 'Adj Close', 'Company'], dtype='object')\n",
      "Index(['High', 'Low', 'Open', 'Close', 'Volume', 'Adj Close', 'Company'], dtype='object')\n",
      "Index(['High', 'Low', 'Open', 'Close', 'Volume', 'Adj Close', 'Company'], dtype='object')\n",
      "Index(['High', 'Low', 'Open', 'Close', 'Volume', 'Adj Close', 'Company'], dtype='object')\n",
      "Index(['High', 'Low', 'Open', 'Close', 'Volume', 'Adj Close', 'Company'], dtype='object')\n"
     ]
    }
   ],
   "source": [
    "for i in [BAC, C, GS, JPM, MS, WFC]:\n",
    "    print(i.columns)"
   ]
  },
  {
   "cell_type": "code",
   "execution_count": 25,
   "metadata": {},
   "outputs": [],
   "source": [
    "#Date column is not changed to index for WFC:\n",
    "WFC.set_index('Date', inplace = True)"
   ]
  },
  {
   "cell_type": "code",
   "execution_count": 77,
   "metadata": {},
   "outputs": [
    {
     "data": {
      "text/html": [
       "<div>\n",
       "<style scoped>\n",
       "    .dataframe tbody tr th:only-of-type {\n",
       "        vertical-align: middle;\n",
       "    }\n",
       "\n",
       "    .dataframe tbody tr th {\n",
       "        vertical-align: top;\n",
       "    }\n",
       "\n",
       "    .dataframe thead th {\n",
       "        text-align: right;\n",
       "    }\n",
       "</style>\n",
       "<table border=\"1\" class=\"dataframe\">\n",
       "  <thead>\n",
       "    <tr style=\"text-align: right;\">\n",
       "      <th></th>\n",
       "      <th>High</th>\n",
       "      <th>Low</th>\n",
       "      <th>Open</th>\n",
       "      <th>Close</th>\n",
       "      <th>Volume</th>\n",
       "      <th>Adj Close</th>\n",
       "      <th>Company</th>\n",
       "    </tr>\n",
       "    <tr>\n",
       "      <th>Date</th>\n",
       "      <th></th>\n",
       "      <th></th>\n",
       "      <th></th>\n",
       "      <th></th>\n",
       "      <th></th>\n",
       "      <th></th>\n",
       "      <th></th>\n",
       "    </tr>\n",
       "  </thead>\n",
       "  <tbody>\n",
       "    <tr>\n",
       "      <th>2016-01-04</th>\n",
       "      <td>16.490000</td>\n",
       "      <td>16.25</td>\n",
       "      <td>16.450001</td>\n",
       "      <td>16.43</td>\n",
       "      <td>114888000.0</td>\n",
       "      <td>15.373302</td>\n",
       "      <td>BOA</td>\n",
       "    </tr>\n",
       "    <tr>\n",
       "      <th>2016-01-05</th>\n",
       "      <td>16.590000</td>\n",
       "      <td>16.23</td>\n",
       "      <td>16.520000</td>\n",
       "      <td>16.43</td>\n",
       "      <td>66670000.0</td>\n",
       "      <td>15.373302</td>\n",
       "      <td>BOA</td>\n",
       "    </tr>\n",
       "    <tr>\n",
       "      <th>2016-01-06</th>\n",
       "      <td>16.290001</td>\n",
       "      <td>16.02</td>\n",
       "      <td>16.190001</td>\n",
       "      <td>16.08</td>\n",
       "      <td>102760800.0</td>\n",
       "      <td>15.045812</td>\n",
       "      <td>BOA</td>\n",
       "    </tr>\n",
       "    <tr>\n",
       "      <th>2016-01-07</th>\n",
       "      <td>15.900000</td>\n",
       "      <td>15.44</td>\n",
       "      <td>15.730000</td>\n",
       "      <td>15.50</td>\n",
       "      <td>116255900.0</td>\n",
       "      <td>14.503113</td>\n",
       "      <td>BOA</td>\n",
       "    </tr>\n",
       "    <tr>\n",
       "      <th>2016-01-08</th>\n",
       "      <td>15.940000</td>\n",
       "      <td>15.16</td>\n",
       "      <td>15.940000</td>\n",
       "      <td>15.20</td>\n",
       "      <td>124782400.0</td>\n",
       "      <td>14.222406</td>\n",
       "      <td>BOA</td>\n",
       "    </tr>\n",
       "  </tbody>\n",
       "</table>\n",
       "</div>"
      ],
      "text/plain": [
       "                 High    Low       Open  Close       Volume  Adj Close Company\n",
       "Date                                                                          \n",
       "2016-01-04  16.490000  16.25  16.450001  16.43  114888000.0  15.373302     BOA\n",
       "2016-01-05  16.590000  16.23  16.520000  16.43   66670000.0  15.373302     BOA\n",
       "2016-01-06  16.290001  16.02  16.190001  16.08  102760800.0  15.045812     BOA\n",
       "2016-01-07  15.900000  15.44  15.730000  15.50  116255900.0  14.503113     BOA\n",
       "2016-01-08  15.940000  15.16  15.940000  15.20  124782400.0  14.222406     BOA"
      ]
     },
     "execution_count": 77,
     "metadata": {},
     "output_type": "execute_result"
    }
   ],
   "source": [
    "alldata = pd.concat([BAC, C, GS, JPM, MS, WFC])\n",
    "\n",
    "alldata.head()"
   ]
  },
  {
   "cell_type": "markdown",
   "metadata": {},
   "source": [
    "##### Derive the average closing price for each bank"
   ]
  },
  {
   "cell_type": "code",
   "execution_count": 36,
   "metadata": {},
   "outputs": [
    {
     "data": {
      "text/plain": [
       "Company\n",
       "BOA               15.431905\n",
       "Citi              46.386111\n",
       "GoldmanSachs     169.113809\n",
       "JPMorgan          65.622817\n",
       "MorganStanley     29.848135\n",
       "WellsFargo        48.957381\n",
       "Name: Close, dtype: float64"
      ]
     },
     "execution_count": 36,
     "metadata": {},
     "output_type": "execute_result"
    }
   ],
   "source": [
    "# your code here\n",
    "alldata.groupby('Company').mean().Close"
   ]
  },
  {
   "cell_type": "markdown",
   "metadata": {},
   "source": [
    "##### Plot the average closing price for each bank using matplotlib or plotly and cufflinks\n"
   ]
  },
  {
   "cell_type": "code",
   "execution_count": 38,
   "metadata": {},
   "outputs": [
    {
     "data": {
      "text/plain": [
       "<matplotlib.axes._subplots.AxesSubplot at 0x2454e8dc6a0>"
      ]
     },
     "execution_count": 38,
     "metadata": {},
     "output_type": "execute_result"
    },
    {
     "data": {
      "image/png": "[encoded data removed]",
      "text/plain": [
       "<Figure size 432x288 with 1 Axes>"
      ]
     },
     "metadata": {
      "needs_background": "light"
     },
     "output_type": "display_data"
    }
   ],
   "source": [
    "# your code here\n",
    "alldata.groupby('Company').mean().Close.plot()"
   ]
  },
  {
   "cell_type": "markdown",
   "metadata": {},
   "source": [
    "\n",
    "** What is the max Close price for each bank's stock throughout the time period?**"
   ]
  },
  {
   "cell_type": "code",
   "execution_count": 39,
   "metadata": {},
   "outputs": [
    {
     "data": {
      "text/plain": [
       "Company\n",
       "BOA               23.160000\n",
       "Citi              61.090000\n",
       "GoldmanSachs     243.089996\n",
       "JPMorgan          87.129997\n",
       "MorganStanley     43.730000\n",
       "WellsFargo        57.290001\n",
       "Name: Close, dtype: float64"
      ]
     },
     "execution_count": 39,
     "metadata": {},
     "output_type": "execute_result"
    }
   ],
   "source": [
    "# your code here\n",
    "alldata.groupby('Company').max().Close"
   ]
  },
  {
   "cell_type": "markdown",
   "metadata": {},
   "source": [
    "** Create a new dataframe called returns. This dataframe will contain the returns for each bank's stock. returns are typically defined by:**\n",
    "\n",
    "$$r_t = \\frac{p_t - p_{t-1}}{p_{t-1}} = \\frac{p_t}{p_{t-1}} - 1$$"
   ]
  },
  {
   "cell_type": "markdown",
   "metadata": {},
   "source": [
    "** We can use pandas pct_change() method on the Close column to create a new dataframe representing this return value. Use .groupby().**"
   ]
  },
  {
   "cell_type": "code",
   "execution_count": 83,
   "metadata": {},
   "outputs": [
    {
     "data": {
      "text/html": [
       "<div>\n",
       "<style scoped>\n",
       "    .dataframe tbody tr th:only-of-type {\n",
       "        vertical-align: middle;\n",
       "    }\n",
       "\n",
       "    .dataframe tbody tr th {\n",
       "        vertical-align: top;\n",
       "    }\n",
       "\n",
       "    .dataframe thead th {\n",
       "        text-align: right;\n",
       "    }\n",
       "</style>\n",
       "<table border=\"1\" class=\"dataframe\">\n",
       "  <thead>\n",
       "    <tr style=\"text-align: right;\">\n",
       "      <th></th>\n",
       "      <th>Date</th>\n",
       "      <th>High</th>\n",
       "      <th>Low</th>\n",
       "      <th>Open</th>\n",
       "      <th>Close</th>\n",
       "      <th>Volume</th>\n",
       "      <th>Adj Close</th>\n",
       "      <th>Company</th>\n",
       "      <th>Return_per_day</th>\n",
       "    </tr>\n",
       "  </thead>\n",
       "  <tbody>\n",
       "    <tr>\n",
       "      <th>0</th>\n",
       "      <td>2016-01-04</td>\n",
       "      <td>16.490000</td>\n",
       "      <td>16.25</td>\n",
       "      <td>16.450001</td>\n",
       "      <td>16.43</td>\n",
       "      <td>114888000.0</td>\n",
       "      <td>15.373302</td>\n",
       "      <td>BOA</td>\n",
       "      <td>NaN</td>\n",
       "    </tr>\n",
       "    <tr>\n",
       "      <th>1</th>\n",
       "      <td>2016-01-05</td>\n",
       "      <td>16.590000</td>\n",
       "      <td>16.23</td>\n",
       "      <td>16.520000</td>\n",
       "      <td>16.43</td>\n",
       "      <td>66670000.0</td>\n",
       "      <td>15.373302</td>\n",
       "      <td>BOA</td>\n",
       "      <td>0.000000</td>\n",
       "    </tr>\n",
       "    <tr>\n",
       "      <th>2</th>\n",
       "      <td>2016-01-06</td>\n",
       "      <td>16.290001</td>\n",
       "      <td>16.02</td>\n",
       "      <td>16.190001</td>\n",
       "      <td>16.08</td>\n",
       "      <td>102760800.0</td>\n",
       "      <td>15.045812</td>\n",
       "      <td>BOA</td>\n",
       "      <td>-0.021303</td>\n",
       "    </tr>\n",
       "    <tr>\n",
       "      <th>3</th>\n",
       "      <td>2016-01-07</td>\n",
       "      <td>15.900000</td>\n",
       "      <td>15.44</td>\n",
       "      <td>15.730000</td>\n",
       "      <td>15.50</td>\n",
       "      <td>116255900.0</td>\n",
       "      <td>14.503113</td>\n",
       "      <td>BOA</td>\n",
       "      <td>-0.036070</td>\n",
       "    </tr>\n",
       "    <tr>\n",
       "      <th>4</th>\n",
       "      <td>2016-01-08</td>\n",
       "      <td>15.940000</td>\n",
       "      <td>15.16</td>\n",
       "      <td>15.940000</td>\n",
       "      <td>15.20</td>\n",
       "      <td>124782400.0</td>\n",
       "      <td>14.222406</td>\n",
       "      <td>BOA</td>\n",
       "      <td>-0.019355</td>\n",
       "    </tr>\n",
       "  </tbody>\n",
       "</table>\n",
       "</div>"
      ],
      "text/plain": [
       "        Date       High    Low       Open  Close       Volume  Adj Close  \\\n",
       "0 2016-01-04  16.490000  16.25  16.450001  16.43  114888000.0  15.373302   \n",
       "1 2016-01-05  16.590000  16.23  16.520000  16.43   66670000.0  15.373302   \n",
       "2 2016-01-06  16.290001  16.02  16.190001  16.08  102760800.0  15.045812   \n",
       "3 2016-01-07  15.900000  15.44  15.730000  15.50  116255900.0  14.503113   \n",
       "4 2016-01-08  15.940000  15.16  15.940000  15.20  124782400.0  14.222406   \n",
       "\n",
       "  Company  Return_per_day  \n",
       "0     BOA             NaN  \n",
       "1     BOA        0.000000  \n",
       "2     BOA       -0.021303  \n",
       "3     BOA       -0.036070  \n",
       "4     BOA       -0.019355  "
      ]
     },
     "execution_count": 83,
     "metadata": {},
     "output_type": "execute_result"
    }
   ],
   "source": [
    "# your code here\n",
    "\n",
    "alldata['Return_per_day'] = alldata['Close'].pct_change()\n",
    "alldata.head()"
   ]
  },
  {
   "cell_type": "code",
   "execution_count": 84,
   "metadata": {},
   "outputs": [
    {
     "data": {
      "text/html": [
       "<div>\n",
       "<style scoped>\n",
       "    .dataframe tbody tr th:only-of-type {\n",
       "        vertical-align: middle;\n",
       "    }\n",
       "\n",
       "    .dataframe tbody tr th {\n",
       "        vertical-align: top;\n",
       "    }\n",
       "\n",
       "    .dataframe thead th {\n",
       "        text-align: right;\n",
       "    }\n",
       "</style>\n",
       "<table border=\"1\" class=\"dataframe\">\n",
       "  <thead>\n",
       "    <tr style=\"text-align: right;\">\n",
       "      <th></th>\n",
       "      <th>High</th>\n",
       "      <th>Low</th>\n",
       "      <th>Open</th>\n",
       "      <th>Close</th>\n",
       "      <th>Volume</th>\n",
       "      <th>Adj Close</th>\n",
       "      <th>Return_per_day</th>\n",
       "    </tr>\n",
       "    <tr>\n",
       "      <th>Company</th>\n",
       "      <th></th>\n",
       "      <th></th>\n",
       "      <th></th>\n",
       "      <th></th>\n",
       "      <th></th>\n",
       "      <th></th>\n",
       "      <th></th>\n",
       "    </tr>\n",
       "  </thead>\n",
       "  <tbody>\n",
       "    <tr>\n",
       "      <th>BOA</th>\n",
       "      <td>15.603929</td>\n",
       "      <td>15.247262</td>\n",
       "      <td>15.424167</td>\n",
       "      <td>15.431905</td>\n",
       "      <td>1.083939e+08</td>\n",
       "      <td>14.551893</td>\n",
       "      <td>0.001386</td>\n",
       "    </tr>\n",
       "    <tr>\n",
       "      <th>Citi</th>\n",
       "      <td>46.861270</td>\n",
       "      <td>45.852936</td>\n",
       "      <td>46.337857</td>\n",
       "      <td>46.386111</td>\n",
       "      <td>2.211106e+07</td>\n",
       "      <td>43.279106</td>\n",
       "      <td>0.006010</td>\n",
       "    </tr>\n",
       "    <tr>\n",
       "      <th>GoldmanSachs</th>\n",
       "      <td>170.664801</td>\n",
       "      <td>167.345515</td>\n",
       "      <td>168.858849</td>\n",
       "      <td>169.113809</td>\n",
       "      <td>3.744334e+06</td>\n",
       "      <td>161.160826</td>\n",
       "      <td>0.009198</td>\n",
       "    </tr>\n",
       "    <tr>\n",
       "      <th>JPMorgan</th>\n",
       "      <td>66.105595</td>\n",
       "      <td>65.027937</td>\n",
       "      <td>65.540040</td>\n",
       "      <td>65.622817</td>\n",
       "      <td>1.705561e+07</td>\n",
       "      <td>59.855239</td>\n",
       "      <td>-0.001586</td>\n",
       "    </tr>\n",
       "    <tr>\n",
       "      <th>MorganStanley</th>\n",
       "      <td>30.186071</td>\n",
       "      <td>29.472897</td>\n",
       "      <td>29.803254</td>\n",
       "      <td>29.848135</td>\n",
       "      <td>1.448674e+07</td>\n",
       "      <td>27.566326</td>\n",
       "      <td>-0.001142</td>\n",
       "    </tr>\n",
       "    <tr>\n",
       "      <th>WellsFargo</th>\n",
       "      <td>49.336111</td>\n",
       "      <td>48.520595</td>\n",
       "      <td>48.926786</td>\n",
       "      <td>48.957381</td>\n",
       "      <td>2.295940e+07</td>\n",
       "      <td>43.824729</td>\n",
       "      <td>0.001274</td>\n",
       "    </tr>\n",
       "  </tbody>\n",
       "</table>\n",
       "</div>"
      ],
      "text/plain": [
       "                     High         Low        Open       Close        Volume  \\\n",
       "Company                                                                       \n",
       "BOA             15.603929   15.247262   15.424167   15.431905  1.083939e+08   \n",
       "Citi            46.861270   45.852936   46.337857   46.386111  2.211106e+07   \n",
       "GoldmanSachs   170.664801  167.345515  168.858849  169.113809  3.744334e+06   \n",
       "JPMorgan        66.105595   65.027937   65.540040   65.622817  1.705561e+07   \n",
       "MorganStanley   30.186071   29.472897   29.803254   29.848135  1.448674e+07   \n",
       "WellsFargo      49.336111   48.520595   48.926786   48.957381  2.295940e+07   \n",
       "\n",
       "                Adj Close  Return_per_day  \n",
       "Company                                    \n",
       "BOA             14.551893        0.001386  \n",
       "Citi            43.279106        0.006010  \n",
       "GoldmanSachs   161.160826        0.009198  \n",
       "JPMorgan        59.855239       -0.001586  \n",
       "MorganStanley   27.566326       -0.001142  \n",
       "WellsFargo      43.824729        0.001274  "
      ]
     },
     "execution_count": 84,
     "metadata": {},
     "output_type": "execute_result"
    }
   ],
   "source": [
    "alldata.groupby('Company').mean()"
   ]
  },
  {
   "cell_type": "markdown",
   "metadata": {},
   "source": [
    "** Using this returns DataFrame, figure out on what dates each bank stock had the best and worst single day returns. Did anything significant happen that day?**"
   ]
  },
  {
   "cell_type": "code",
   "execution_count": 160,
   "metadata": {},
   "outputs": [
    {
     "data": {
      "text/plain": [
       "Company\n",
       "BOA                28\n",
       "Citi              252\n",
       "GoldmanSachs      504\n",
       "JPMorgan          784\n",
       "MorganStanley    1224\n",
       "WellsFargo       1260\n",
       "Name: Return_per_day, dtype: int64"
      ]
     },
     "execution_count": 160,
     "metadata": {},
     "output_type": "execute_result"
    }
   ],
   "source": [
    "# your code here\n",
    "alldata.groupby('Company').Return_per_day.idxmax()\n"
   ]
  },
  {
   "cell_type": "code",
   "execution_count": 161,
   "metadata": {},
   "outputs": [
    {
     "data": {
      "text/html": [
       "<div>\n",
       "<style scoped>\n",
       "    .dataframe tbody tr th:only-of-type {\n",
       "        vertical-align: middle;\n",
       "    }\n",
       "\n",
       "    .dataframe tbody tr th {\n",
       "        vertical-align: top;\n",
       "    }\n",
       "\n",
       "    .dataframe thead th {\n",
       "        text-align: right;\n",
       "    }\n",
       "</style>\n",
       "<table border=\"1\" class=\"dataframe\">\n",
       "  <thead>\n",
       "    <tr style=\"text-align: right;\">\n",
       "      <th></th>\n",
       "      <th>Date</th>\n",
       "      <th>High</th>\n",
       "      <th>Low</th>\n",
       "      <th>Open</th>\n",
       "      <th>Close</th>\n",
       "      <th>Volume</th>\n",
       "      <th>Adj Close</th>\n",
       "      <th>Company</th>\n",
       "      <th>Return_per_day</th>\n",
       "    </tr>\n",
       "  </thead>\n",
       "  <tbody>\n",
       "    <tr>\n",
       "      <th>28</th>\n",
       "      <td>2016-02-12</td>\n",
       "      <td>12.030000</td>\n",
       "      <td>11.400000</td>\n",
       "      <td>11.480000</td>\n",
       "      <td>11.950000</td>\n",
       "      <td>245388400.0</td>\n",
       "      <td>11.181433</td>\n",
       "      <td>BOA</td>\n",
       "      <td>0.070789</td>\n",
       "    </tr>\n",
       "    <tr>\n",
       "      <th>252</th>\n",
       "      <td>2016-01-04</td>\n",
       "      <td>51.189999</td>\n",
       "      <td>50.189999</td>\n",
       "      <td>50.750000</td>\n",
       "      <td>51.130001</td>\n",
       "      <td>23440200.0</td>\n",
       "      <td>47.502300</td>\n",
       "      <td>Citi</td>\n",
       "      <td>1.313575</td>\n",
       "    </tr>\n",
       "    <tr>\n",
       "      <th>504</th>\n",
       "      <td>2016-01-04</td>\n",
       "      <td>177.190002</td>\n",
       "      <td>173.759995</td>\n",
       "      <td>175.789993</td>\n",
       "      <td>177.139999</td>\n",
       "      <td>3745500.0</td>\n",
       "      <td>167.424698</td>\n",
       "      <td>GoldmanSachs</td>\n",
       "      <td>1.980649</td>\n",
       "    </tr>\n",
       "    <tr>\n",
       "      <th>784</th>\n",
       "      <td>2016-02-12</td>\n",
       "      <td>57.570000</td>\n",
       "      <td>55.169998</td>\n",
       "      <td>55.650002</td>\n",
       "      <td>57.490002</td>\n",
       "      <td>37011400.0</td>\n",
       "      <td>51.807579</td>\n",
       "      <td>JPMorgan</td>\n",
       "      <td>0.083286</td>\n",
       "    </tr>\n",
       "    <tr>\n",
       "      <th>1224</th>\n",
       "      <td>2016-11-09</td>\n",
       "      <td>36.910000</td>\n",
       "      <td>34.470001</td>\n",
       "      <td>34.700001</td>\n",
       "      <td>36.520000</td>\n",
       "      <td>28311000.0</td>\n",
       "      <td>34.056992</td>\n",
       "      <td>MorganStanley</td>\n",
       "      <td>0.070968</td>\n",
       "    </tr>\n",
       "    <tr>\n",
       "      <th>1260</th>\n",
       "      <td>2016-01-04</td>\n",
       "      <td>53.270000</td>\n",
       "      <td>52.299999</td>\n",
       "      <td>53.090000</td>\n",
       "      <td>52.910000</td>\n",
       "      <td>25985400.0</td>\n",
       "      <td>46.564404</td>\n",
       "      <td>WellsFargo</td>\n",
       "      <td>0.252308</td>\n",
       "    </tr>\n",
       "  </tbody>\n",
       "</table>\n",
       "</div>"
      ],
      "text/plain": [
       "           Date        High         Low        Open       Close       Volume  \\\n",
       "28   2016-02-12   12.030000   11.400000   11.480000   11.950000  245388400.0   \n",
       "252  2016-01-04   51.189999   50.189999   50.750000   51.130001   23440200.0   \n",
       "504  2016-01-04  177.190002  173.759995  175.789993  177.139999    3745500.0   \n",
       "784  2016-02-12   57.570000   55.169998   55.650002   57.490002   37011400.0   \n",
       "1224 2016-11-09   36.910000   34.470001   34.700001   36.520000   28311000.0   \n",
       "1260 2016-01-04   53.270000   52.299999   53.090000   52.910000   25985400.0   \n",
       "\n",
       "       Adj Close        Company  Return_per_day  \n",
       "28     11.181433            BOA        0.070789  \n",
       "252    47.502300           Citi        1.313575  \n",
       "504   167.424698   GoldmanSachs        1.980649  \n",
       "784    51.807579       JPMorgan        0.083286  \n",
       "1224   34.056992  MorganStanley        0.070968  \n",
       "1260   46.564404     WellsFargo        0.252308  "
      ]
     },
     "execution_count": 161,
     "metadata": {},
     "output_type": "execute_result"
    }
   ],
   "source": [
    "maxindex = [28,252,504,784,1224,1260]\n",
    "alldata.iloc[maxindex, :]"
   ]
  },
  {
   "cell_type": "code",
   "execution_count": 162,
   "metadata": {},
   "outputs": [
    {
     "data": {
      "text/plain": [
       "Company\n",
       "BOA               120\n",
       "Citi              372\n",
       "GoldmanSachs      624\n",
       "JPMorgan          756\n",
       "MorganStanley    1008\n",
       "WellsFargo       1380\n",
       "Name: Return_per_day, dtype: int64"
      ]
     },
     "execution_count": 162,
     "metadata": {},
     "output_type": "execute_result"
    }
   ],
   "source": [
    "alldata.groupby('Company').Return_per_day.idxmin()"
   ]
  },
  {
   "cell_type": "code",
   "execution_count": 163,
   "metadata": {},
   "outputs": [
    {
     "data": {
      "text/html": [
       "<div>\n",
       "<style scoped>\n",
       "    .dataframe tbody tr th:only-of-type {\n",
       "        vertical-align: middle;\n",
       "    }\n",
       "\n",
       "    .dataframe tbody tr th {\n",
       "        vertical-align: top;\n",
       "    }\n",
       "\n",
       "    .dataframe thead th {\n",
       "        text-align: right;\n",
       "    }\n",
       "</style>\n",
       "<table border=\"1\" class=\"dataframe\">\n",
       "  <thead>\n",
       "    <tr style=\"text-align: right;\">\n",
       "      <th></th>\n",
       "      <th>Date</th>\n",
       "      <th>High</th>\n",
       "      <th>Low</th>\n",
       "      <th>Open</th>\n",
       "      <th>Close</th>\n",
       "      <th>Volume</th>\n",
       "      <th>Adj Close</th>\n",
       "      <th>Company</th>\n",
       "      <th>Return_per_day</th>\n",
       "    </tr>\n",
       "  </thead>\n",
       "  <tbody>\n",
       "    <tr>\n",
       "      <th>120</th>\n",
       "      <td>2016-06-24</td>\n",
       "      <td>13.440000</td>\n",
       "      <td>12.970000</td>\n",
       "      <td>13.050000</td>\n",
       "      <td>13.000000</td>\n",
       "      <td>231499200.0</td>\n",
       "      <td>12.251606</td>\n",
       "      <td>BOA</td>\n",
       "      <td>-0.074074</td>\n",
       "    </tr>\n",
       "    <tr>\n",
       "      <th>372</th>\n",
       "      <td>2016-06-24</td>\n",
       "      <td>41.389999</td>\n",
       "      <td>40.259998</td>\n",
       "      <td>40.630001</td>\n",
       "      <td>40.299999</td>\n",
       "      <td>71849800.0</td>\n",
       "      <td>37.526550</td>\n",
       "      <td>Citi</td>\n",
       "      <td>-0.093567</td>\n",
       "    </tr>\n",
       "    <tr>\n",
       "      <th>624</th>\n",
       "      <td>2016-06-24</td>\n",
       "      <td>146.419998</td>\n",
       "      <td>140.919998</td>\n",
       "      <td>143.029999</td>\n",
       "      <td>141.860001</td>\n",
       "      <td>9442200.0</td>\n",
       "      <td>135.214188</td>\n",
       "      <td>GoldmanSachs</td>\n",
       "      <td>-0.070745</td>\n",
       "    </tr>\n",
       "    <tr>\n",
       "      <th>756</th>\n",
       "      <td>2016-01-04</td>\n",
       "      <td>64.059998</td>\n",
       "      <td>63.009998</td>\n",
       "      <td>63.950001</td>\n",
       "      <td>63.619999</td>\n",
       "      <td>25393200.0</td>\n",
       "      <td>57.331673</td>\n",
       "      <td>JPMorgan</td>\n",
       "      <td>-0.734308</td>\n",
       "    </tr>\n",
       "    <tr>\n",
       "      <th>1008</th>\n",
       "      <td>2016-01-04</td>\n",
       "      <td>31.520000</td>\n",
       "      <td>30.559999</td>\n",
       "      <td>30.700001</td>\n",
       "      <td>31.480000</td>\n",
       "      <td>15749200.0</td>\n",
       "      <td>28.655018</td>\n",
       "      <td>MorganStanley</td>\n",
       "      <td>-0.635184</td>\n",
       "    </tr>\n",
       "    <tr>\n",
       "      <th>1380</th>\n",
       "      <td>2016-06-24</td>\n",
       "      <td>46.970001</td>\n",
       "      <td>45.279999</td>\n",
       "      <td>45.759998</td>\n",
       "      <td>45.709999</td>\n",
       "      <td>46744100.0</td>\n",
       "      <td>40.849701</td>\n",
       "      <td>WellsFargo</td>\n",
       "      <td>-0.045919</td>\n",
       "    </tr>\n",
       "  </tbody>\n",
       "</table>\n",
       "</div>"
      ],
      "text/plain": [
       "           Date        High         Low        Open       Close       Volume  \\\n",
       "120  2016-06-24   13.440000   12.970000   13.050000   13.000000  231499200.0   \n",
       "372  2016-06-24   41.389999   40.259998   40.630001   40.299999   71849800.0   \n",
       "624  2016-06-24  146.419998  140.919998  143.029999  141.860001    9442200.0   \n",
       "756  2016-01-04   64.059998   63.009998   63.950001   63.619999   25393200.0   \n",
       "1008 2016-01-04   31.520000   30.559999   30.700001   31.480000   15749200.0   \n",
       "1380 2016-06-24   46.970001   45.279999   45.759998   45.709999   46744100.0   \n",
       "\n",
       "       Adj Close        Company  Return_per_day  \n",
       "120    12.251606            BOA       -0.074074  \n",
       "372    37.526550           Citi       -0.093567  \n",
       "624   135.214188   GoldmanSachs       -0.070745  \n",
       "756    57.331673       JPMorgan       -0.734308  \n",
       "1008   28.655018  MorganStanley       -0.635184  \n",
       "1380   40.849701     WellsFargo       -0.045919  "
      ]
     },
     "execution_count": 163,
     "metadata": {},
     "output_type": "execute_result"
    }
   ],
   "source": [
    "minindex = [120, 372, 624, 756, 1008, 1380]\n",
    "alldata.iloc[minindex, :]"
   ]
  },
  {
   "cell_type": "code",
   "execution_count": null,
   "metadata": {},
   "outputs": [],
   "source": []
  },
  {
   "cell_type": "markdown",
   "metadata": {},
   "source": [
    "** Please state here what you have noticed. Did anything significant happen in that time frame? **\n",
    "\n",
    "China Market Economy Slow Down affectes the banking stocks in 2016 Jan 04.\n",
    "No other news found after search since the time is so old"
   ]
  },
  {
   "cell_type": "markdown",
   "metadata": {},
   "source": []
  },
  {
   "cell_type": "markdown",
   "metadata": {},
   "source": [
    "** Take a look at the standard deviation of the returns, which stock would you classify as the riskiest over the entire time period? **"
   ]
  },
  {
   "cell_type": "code",
   "execution_count": 168,
   "metadata": {},
   "outputs": [
    {
     "data": {
      "text/plain": [
       "Company\n",
       "BOA              0.020209\n",
       "Citi             0.085086\n",
       "GoldmanSachs     0.125818\n",
       "JPMorgan         0.048846\n",
       "MorganStanley    0.045042\n",
       "WellsFargo       0.021831\n",
       "Name: Return_per_day, dtype: float64"
      ]
     },
     "execution_count": 168,
     "metadata": {},
     "output_type": "execute_result"
    }
   ],
   "source": [
    "#  your code here\n",
    "alldata.groupby('Company').Return_per_day.std()"
   ]
  },
  {
   "cell_type": "code",
   "execution_count": null,
   "metadata": {},
   "outputs": [],
   "source": [
    "''''GoldmanSachs has the highest Standard Deviation on daily return percentage, hence it's the riskiest"
   ]
  },
  {
   "cell_type": "markdown",
   "metadata": {},
   "source": [
    "** Which would you classify as the riskiest for the year 2016? **"
   ]
  },
  {
   "cell_type": "code",
   "execution_count": 173,
   "metadata": {},
   "outputs": [],
   "source": [
    "# your code here\n",
    "data_2016 = alldata[alldata.Date.astype(str).str.startswith('2016')]"
   ]
  },
  {
   "cell_type": "code",
   "execution_count": 175,
   "metadata": {},
   "outputs": [
    {
     "data": {
      "text/plain": [
       "Date              2016-12-30 00:00:00\n",
       "High                           245.57\n",
       "Low                            241.62\n",
       "Open                           243.69\n",
       "Close                          243.09\n",
       "Volume                    3.75089e+08\n",
       "Adj Close                     233.329\n",
       "Company                    WellsFargo\n",
       "Return_per_day                1.98065\n",
       "dtype: object"
      ]
     },
     "execution_count": 175,
     "metadata": {},
     "output_type": "execute_result"
    }
   ],
   "source": [
    "#verify latest date is 2016-12-30:\n",
    "data_2016.max()"
   ]
  },
  {
   "cell_type": "code",
   "execution_count": 176,
   "metadata": {},
   "outputs": [
    {
     "data": {
      "text/plain": [
       "Company\n",
       "BOA              0.020209\n",
       "Citi             0.085086\n",
       "GoldmanSachs     0.125818\n",
       "JPMorgan         0.048846\n",
       "MorganStanley    0.045042\n",
       "WellsFargo       0.021831\n",
       "Name: Return_per_day, dtype: float64"
      ]
     },
     "execution_count": 176,
     "metadata": {},
     "output_type": "execute_result"
    }
   ],
   "source": [
    "data_2016.groupby('Company').Return_per_day.std()"
   ]
  },
  {
   "cell_type": "code",
   "execution_count": null,
   "metadata": {},
   "outputs": [],
   "source": [
    "#Still GoldmanSachs"
   ]
  },
  {
   "cell_type": "code",
   "execution_count": null,
   "metadata": {},
   "outputs": [],
   "source": []
  },
  {
   "cell_type": "markdown",
   "metadata": {},
   "source": [
    "** Create a density plot using any library you like to visualize the previous year's return for each bank **"
   ]
  },
  {
   "cell_type": "code",
   "execution_count": 191,
   "metadata": {},
   "outputs": [
    {
     "data": {
      "text/plain": [
       "Company\n",
       "BOA              AxesSubplot(0.125,0.125;0.775x0.755)\n",
       "Citi             AxesSubplot(0.125,0.125;0.775x0.755)\n",
       "GoldmanSachs     AxesSubplot(0.125,0.125;0.775x0.755)\n",
       "JPMorgan         AxesSubplot(0.125,0.125;0.775x0.755)\n",
       "MorganStanley    AxesSubplot(0.125,0.125;0.775x0.755)\n",
       "WellsFargo       AxesSubplot(0.125,0.125;0.775x0.755)\n",
       "Name: Return_per_day, dtype: object"
      ]
     },
     "execution_count": 191,
     "metadata": {},
     "output_type": "execute_result"
    },
    {
     "data": {
      "image/png": "[encoded data removed]",
      "text/plain": [
       "<Figure size 1080x360 with 1 Axes>"
      ]
     },
     "metadata": {
      "needs_background": "light"
     },
     "output_type": "display_data"
    }
   ],
   "source": [
    "from matplotlib.pyplot import figure\n",
    "figure(figsize=(15,5))\n",
    "data_2016.groupby('Company').Return_per_day.plot(kind='kde', xlim = (-0.5,0.5))"
   ]
  },
  {
   "cell_type": "markdown",
   "metadata": {},
   "source": [
    "### Moving Averages\n",
    "\n",
    "** Please derive the moving averages for these stocks in the year 2016. Use .rolling() in pandas to get the rolling average calculation. ** \n",
    "\n"
   ]
  },
  {
   "cell_type": "code",
   "execution_count": 199,
   "metadata": {},
   "outputs": [],
   "source": [
    "data_2016 = data_2016.set_index('Date')\n"
   ]
  },
  {
   "cell_type": "code",
   "execution_count": 203,
   "metadata": {},
   "outputs": [
    {
     "data": {
      "text/plain": [
       "Date\n",
       "2016-01-04       NaN\n",
       "2016-01-05       NaN\n",
       "2016-01-06       NaN\n",
       "2016-01-07       NaN\n",
       "2016-01-08       NaN\n",
       "               ...  \n",
       "2016-12-23    55.559\n",
       "2016-12-27    55.576\n",
       "2016-12-28    55.524\n",
       "2016-12-29    55.538\n",
       "2016-12-30    55.530\n",
       "Name: Close, Length: 1512, dtype: float64"
      ]
     },
     "execution_count": 203,
     "metadata": {},
     "output_type": "execute_result"
    }
   ],
   "source": [
    "# your code here\n",
    "#Moving Winodw not specified, setting as 10 days:\n",
    "data_2016.Close.rolling(10).mean()"
   ]
  },
  {
   "cell_type": "markdown",
   "metadata": {},
   "source": [
    "** Plot the rolling 30 day average against the Close Price for Bank Of America's stock for the year 2016**"
   ]
  },
  {
   "cell_type": "code",
   "execution_count": 209,
   "metadata": {},
   "outputs": [
    {
     "data": {
      "text/plain": [
       "Date\n",
       "2016-01-04          NaN\n",
       "2016-01-05          NaN\n",
       "2016-01-06          NaN\n",
       "2016-01-07          NaN\n",
       "2016-01-08          NaN\n",
       "                ...    \n",
       "2016-12-23    21.495333\n",
       "2016-12-27    21.615000\n",
       "2016-12-28    21.690000\n",
       "2016-12-29    21.751333\n",
       "2016-12-30    21.829667\n",
       "Name: Close, Length: 252, dtype: float64"
      ]
     },
     "execution_count": 209,
     "metadata": {},
     "output_type": "execute_result"
    }
   ],
   "source": [
    "# your code here\n",
    "data_2016[data_2016['Company'] == 'BOA'].Close.rolling(30).mean()"
   ]
  },
  {
   "cell_type": "markdown",
   "metadata": {},
   "source": [
    "** Create a heatmap of the correlation between the stocks Close Price.**\n"
   ]
  },
  {
   "cell_type": "code",
   "execution_count": null,
   "metadata": {},
   "outputs": [],
   "source": [
    "BOA               120\n",
    "Citi              372\n",
    "GoldmanSachs      624\n",
    "JPMorgan          756\n",
    "MorganStanley    1008\n",
    "WellsFargo  "
   ]
  },
  {
   "cell_type": "code",
   "execution_count": 212,
   "metadata": {},
   "outputs": [],
   "source": [
    "# your code here\n",
    "from string import ascii_letters\n",
    "import numpy as np\n",
    "import pandas as pd\n",
    "import seaborn as sns\n",
    "import matplotlib.pyplot as plt\n",
    "\n",
    "BOAClose = data_2016[data_2016['Company'] == 'BOA'].Close\n",
    "WellsFargoClose = data_2016[data_2016['Company'] == 'WellsFargo'].Close\n",
    "MorganStanleyClose = data_2016[data_2016['Company'] == 'MorganStanley'].Close\n",
    "JPMorganClose = data_2016[data_2016['Company'] == 'JPMorgan'].Close\n",
    "GoldmanSachsClose = data_2016[data_2016['Company'] == 'GoldmanSachs'].Close\n"
   ]
  },
  {
   "cell_type": "code",
   "execution_count": 220,
   "metadata": {},
   "outputs": [],
   "source": [
    "ready_for_corelation = pd.concat([BOAClose,WellsFargoClose,MorganStanleyClose,JPMorganClose,GoldmanSachsClose],axis=1)"
   ]
  },
  {
   "cell_type": "code",
   "execution_count": 221,
   "metadata": {},
   "outputs": [],
   "source": [
    "ready_for_corelation.columns = ['BOAClose', 'WellsFargoClose','MorganStanleyClose','JPMorganClose','GoldmanSachsClose']"
   ]
  },
  {
   "cell_type": "code",
   "execution_count": 222,
   "metadata": {},
   "outputs": [
    {
     "data": {
      "text/html": [
       "<div>\n",
       "<style scoped>\n",
       "    .dataframe tbody tr th:only-of-type {\n",
       "        vertical-align: middle;\n",
       "    }\n",
       "\n",
       "    .dataframe tbody tr th {\n",
       "        vertical-align: top;\n",
       "    }\n",
       "\n",
       "    .dataframe thead th {\n",
       "        text-align: right;\n",
       "    }\n",
       "</style>\n",
       "<table border=\"1\" class=\"dataframe\">\n",
       "  <thead>\n",
       "    <tr style=\"text-align: right;\">\n",
       "      <th></th>\n",
       "      <th>BOAClose</th>\n",
       "      <th>WellsFargoClose</th>\n",
       "      <th>MorganStanleyClose</th>\n",
       "      <th>JPMorganClose</th>\n",
       "      <th>GoldmanSachsClose</th>\n",
       "    </tr>\n",
       "    <tr>\n",
       "      <th>Date</th>\n",
       "      <th></th>\n",
       "      <th></th>\n",
       "      <th></th>\n",
       "      <th></th>\n",
       "      <th></th>\n",
       "    </tr>\n",
       "  </thead>\n",
       "  <tbody>\n",
       "    <tr>\n",
       "      <th>2016-01-04</th>\n",
       "      <td>16.430000</td>\n",
       "      <td>52.910000</td>\n",
       "      <td>31.480000</td>\n",
       "      <td>63.619999</td>\n",
       "      <td>177.139999</td>\n",
       "    </tr>\n",
       "    <tr>\n",
       "      <th>2016-01-05</th>\n",
       "      <td>16.430000</td>\n",
       "      <td>52.889999</td>\n",
       "      <td>31.280001</td>\n",
       "      <td>63.730000</td>\n",
       "      <td>174.089996</td>\n",
       "    </tr>\n",
       "    <tr>\n",
       "      <th>2016-01-06</th>\n",
       "      <td>16.080000</td>\n",
       "      <td>51.880001</td>\n",
       "      <td>30.500000</td>\n",
       "      <td>62.810001</td>\n",
       "      <td>169.839996</td>\n",
       "    </tr>\n",
       "    <tr>\n",
       "      <th>2016-01-07</th>\n",
       "      <td>15.500000</td>\n",
       "      <td>50.400002</td>\n",
       "      <td>28.980000</td>\n",
       "      <td>60.270000</td>\n",
       "      <td>164.619995</td>\n",
       "    </tr>\n",
       "    <tr>\n",
       "      <th>2016-01-08</th>\n",
       "      <td>15.200000</td>\n",
       "      <td>49.560001</td>\n",
       "      <td>28.379999</td>\n",
       "      <td>58.919998</td>\n",
       "      <td>163.940002</td>\n",
       "    </tr>\n",
       "    <tr>\n",
       "      <th>...</th>\n",
       "      <td>...</td>\n",
       "      <td>...</td>\n",
       "      <td>...</td>\n",
       "      <td>...</td>\n",
       "      <td>...</td>\n",
       "    </tr>\n",
       "    <tr>\n",
       "      <th>2016-12-23</th>\n",
       "      <td>22.600000</td>\n",
       "      <td>55.959999</td>\n",
       "      <td>43.060001</td>\n",
       "      <td>87.050003</td>\n",
       "      <td>240.970001</td>\n",
       "    </tr>\n",
       "    <tr>\n",
       "      <th>2016-12-27</th>\n",
       "      <td>22.610001</td>\n",
       "      <td>55.950001</td>\n",
       "      <td>43.119999</td>\n",
       "      <td>87.129997</td>\n",
       "      <td>241.559998</td>\n",
       "    </tr>\n",
       "    <tr>\n",
       "      <th>2016-12-28</th>\n",
       "      <td>22.330000</td>\n",
       "      <td>55.320000</td>\n",
       "      <td>42.619999</td>\n",
       "      <td>86.500000</td>\n",
       "      <td>240.649994</td>\n",
       "    </tr>\n",
       "    <tr>\n",
       "      <th>2016-12-29</th>\n",
       "      <td>22.000000</td>\n",
       "      <td>54.840000</td>\n",
       "      <td>42.150002</td>\n",
       "      <td>85.889999</td>\n",
       "      <td>238.179993</td>\n",
       "    </tr>\n",
       "    <tr>\n",
       "      <th>2016-12-30</th>\n",
       "      <td>22.100000</td>\n",
       "      <td>55.110001</td>\n",
       "      <td>42.250000</td>\n",
       "      <td>86.290001</td>\n",
       "      <td>239.449997</td>\n",
       "    </tr>\n",
       "  </tbody>\n",
       "</table>\n",
       "<p>252 rows × 5 columns</p>\n",
       "</div>"
      ],
      "text/plain": [
       "             BOAClose  WellsFargoClose  MorganStanleyClose  JPMorganClose  \\\n",
       "Date                                                                        \n",
       "2016-01-04  16.430000        52.910000           31.480000      63.619999   \n",
       "2016-01-05  16.430000        52.889999           31.280001      63.730000   \n",
       "2016-01-06  16.080000        51.880001           30.500000      62.810001   \n",
       "2016-01-07  15.500000        50.400002           28.980000      60.270000   \n",
       "2016-01-08  15.200000        49.560001           28.379999      58.919998   \n",
       "...               ...              ...                 ...            ...   \n",
       "2016-12-23  22.600000        55.959999           43.060001      87.050003   \n",
       "2016-12-27  22.610001        55.950001           43.119999      87.129997   \n",
       "2016-12-28  22.330000        55.320000           42.619999      86.500000   \n",
       "2016-12-29  22.000000        54.840000           42.150002      85.889999   \n",
       "2016-12-30  22.100000        55.110001           42.250000      86.290001   \n",
       "\n",
       "            GoldmanSachsClose  \n",
       "Date                           \n",
       "2016-01-04         177.139999  \n",
       "2016-01-05         174.089996  \n",
       "2016-01-06         169.839996  \n",
       "2016-01-07         164.619995  \n",
       "2016-01-08         163.940002  \n",
       "...                       ...  \n",
       "2016-12-23         240.970001  \n",
       "2016-12-27         241.559998  \n",
       "2016-12-28         240.649994  \n",
       "2016-12-29         238.179993  \n",
       "2016-12-30         239.449997  \n",
       "\n",
       "[252 rows x 5 columns]"
      ]
     },
     "execution_count": 222,
     "metadata": {},
     "output_type": "execute_result"
    }
   ],
   "source": [
    "ready_for_corelation"
   ]
  },
  {
   "cell_type": "code",
   "execution_count": 225,
   "metadata": {},
   "outputs": [
    {
     "data": {
      "image/png": "[encoded data removed]",
      "text/plain": [
       "<Figure size 432x288 with 2 Axes>"
      ]
     },
     "metadata": {
      "needs_background": "light"
     },
     "output_type": "display_data"
    }
   ],
   "source": [
    "corrheatmap = ready_for_corelation.corr()\n",
    "import numpy as np\n",
    "import seaborn as sns\n",
    "ax = sns.heatmap(corrheatmap, cmap=\"YlGnBu\")"
   ]
  },
  {
   "cell_type": "markdown",
   "metadata": {},
   "source": [
    "# Part 2. \n",
    "\n",
    "Please generate some visualization using the crunchbase database you downloaded for the midterm. Feel free to use any plotting packages (in Python), and generate any types of figures. You may also comment on the generated figures, and explain any insights you have obtained. "
   ]
  },
  {
   "cell_type": "code",
   "execution_count": 226,
   "metadata": {},
   "outputs": [
    {
     "data": {
      "text/plain": [
       "'Connected: @crunchbase_analysis.db'"
      ]
     },
     "execution_count": 226,
     "metadata": {},
     "output_type": "execute_result"
    }
   ],
   "source": [
    "import pandas\n",
    "import sqlite3\n",
    "%load_ext sql\n",
    "%sql sqlite:///crunchbase_analysis.db"
   ]
  },
  {
   "cell_type": "code",
   "execution_count": 243,
   "metadata": {},
   "outputs": [],
   "source": [
    "database = sqlite3.connect('crunchbase_analysis.db')"
   ]
  },
  {
   "cell_type": "code",
   "execution_count": 244,
   "metadata": {},
   "outputs": [],
   "source": [
    "visual1 = pd.read_sql_query(\"Select state_code, Count(state_code) From crunchbase_companies Group by state_code Order by count(state_code) DESC\", database)"
   ]
  },
  {
   "cell_type": "code",
   "execution_count": 252,
   "metadata": {},
   "outputs": [
    {
     "data": {
      "text/plain": [
       "<matplotlib.axes._subplots.AxesSubplot at 0x2454fc4f208>"
      ]
     },
     "execution_count": 252,
     "metadata": {},
     "output_type": "execute_result"
    },
    {
     "data": {
      "image/png": "[encoded data removed]",
      "text/plain": [
       "<Figure size 432x288 with 1 Axes>"
      ]
     },
     "metadata": {
      "needs_background": "light"
     },
     "output_type": "display_data"
    }
   ],
   "source": [
    "visual1.plot(x = 'state_code')"
   ]
  },
  {
   "cell_type": "code",
   "execution_count": 253,
   "metadata": {},
   "outputs": [],
   "source": [
    "visual2 = pd.read_sql_query(\"Select category_code, Count(category_code) From crunchbase_companies Group by category_code Order by count(category_code) DESC\", database)"
   ]
  },
  {
   "cell_type": "code",
   "execution_count": 259,
   "metadata": {},
   "outputs": [
    {
     "data": {
      "text/html": [
       "<div>\n",
       "<style scoped>\n",
       "    .dataframe tbody tr th:only-of-type {\n",
       "        vertical-align: middle;\n",
       "    }\n",
       "\n",
       "    .dataframe tbody tr th {\n",
       "        vertical-align: top;\n",
       "    }\n",
       "\n",
       "    .dataframe thead th {\n",
       "        text-align: right;\n",
       "    }\n",
       "</style>\n",
       "<table border=\"1\" class=\"dataframe\">\n",
       "  <thead>\n",
       "    <tr style=\"text-align: right;\">\n",
       "      <th></th>\n",
       "      <th>category_code</th>\n",
       "      <th>Count(category_code)</th>\n",
       "    </tr>\n",
       "  </thead>\n",
       "  <tbody>\n",
       "    <tr>\n",
       "      <th>0</th>\n",
       "      <td>software</td>\n",
       "      <td>3819</td>\n",
       "    </tr>\n",
       "    <tr>\n",
       "      <th>1</th>\n",
       "      <td>biotech</td>\n",
       "      <td>2742</td>\n",
       "    </tr>\n",
       "    <tr>\n",
       "      <th>2</th>\n",
       "      <td>web</td>\n",
       "      <td>2046</td>\n",
       "    </tr>\n",
       "    <tr>\n",
       "      <th>3</th>\n",
       "      <td>mobile</td>\n",
       "      <td>1755</td>\n",
       "    </tr>\n",
       "    <tr>\n",
       "      <th>4</th>\n",
       "      <td>enterprise</td>\n",
       "      <td>1446</td>\n",
       "    </tr>\n",
       "    <tr>\n",
       "      <th>5</th>\n",
       "      <td>ecommerce</td>\n",
       "      <td>1379</td>\n",
       "    </tr>\n",
       "    <tr>\n",
       "      <th>6</th>\n",
       "      <td>games_video</td>\n",
       "      <td>1135</td>\n",
       "    </tr>\n",
       "    <tr>\n",
       "      <th>7</th>\n",
       "      <td>advertising</td>\n",
       "      <td>1037</td>\n",
       "    </tr>\n",
       "    <tr>\n",
       "      <th>8</th>\n",
       "      <td>hardware</td>\n",
       "      <td>952</td>\n",
       "    </tr>\n",
       "    <tr>\n",
       "      <th>9</th>\n",
       "      <td>cleantech</td>\n",
       "      <td>898</td>\n",
       "    </tr>\n",
       "    <tr>\n",
       "      <th>10</th>\n",
       "      <td>social</td>\n",
       "      <td>689</td>\n",
       "    </tr>\n",
       "    <tr>\n",
       "      <th>11</th>\n",
       "      <td>medical</td>\n",
       "      <td>686</td>\n",
       "    </tr>\n",
       "    <tr>\n",
       "      <th>12</th>\n",
       "      <td>analytics</td>\n",
       "      <td>648</td>\n",
       "    </tr>\n",
       "    <tr>\n",
       "      <th>13</th>\n",
       "      <td>health</td>\n",
       "      <td>626</td>\n",
       "    </tr>\n",
       "    <tr>\n",
       "      <th>14</th>\n",
       "      <td>finance</td>\n",
       "      <td>565</td>\n",
       "    </tr>\n",
       "    <tr>\n",
       "      <th>15</th>\n",
       "      <td>education</td>\n",
       "      <td>520</td>\n",
       "    </tr>\n",
       "    <tr>\n",
       "      <th>16</th>\n",
       "      <td>other</td>\n",
       "      <td>511</td>\n",
       "    </tr>\n",
       "    <tr>\n",
       "      <th>17</th>\n",
       "      <td>network_hosting</td>\n",
       "      <td>417</td>\n",
       "    </tr>\n",
       "    <tr>\n",
       "      <th>18</th>\n",
       "      <td>security</td>\n",
       "      <td>408</td>\n",
       "    </tr>\n",
       "    <tr>\n",
       "      <th>19</th>\n",
       "      <td>manufacturing</td>\n",
       "      <td>375</td>\n",
       "    </tr>\n",
       "    <tr>\n",
       "      <th>20</th>\n",
       "      <td>semiconductor</td>\n",
       "      <td>370</td>\n",
       "    </tr>\n",
       "    <tr>\n",
       "      <th>21</th>\n",
       "      <td>consulting</td>\n",
       "      <td>304</td>\n",
       "    </tr>\n",
       "    <tr>\n",
       "      <th>22</th>\n",
       "      <td>messaging</td>\n",
       "      <td>295</td>\n",
       "    </tr>\n",
       "    <tr>\n",
       "      <th>23</th>\n",
       "      <td>hospitality</td>\n",
       "      <td>288</td>\n",
       "    </tr>\n",
       "    <tr>\n",
       "      <th>24</th>\n",
       "      <td>travel</td>\n",
       "      <td>269</td>\n",
       "    </tr>\n",
       "    <tr>\n",
       "      <th>25</th>\n",
       "      <td>search</td>\n",
       "      <td>261</td>\n",
       "    </tr>\n",
       "    <tr>\n",
       "      <th>26</th>\n",
       "      <td>news</td>\n",
       "      <td>254</td>\n",
       "    </tr>\n",
       "    <tr>\n",
       "      <th>27</th>\n",
       "      <td>fashion</td>\n",
       "      <td>231</td>\n",
       "    </tr>\n",
       "    <tr>\n",
       "      <th>28</th>\n",
       "      <td>music</td>\n",
       "      <td>199</td>\n",
       "    </tr>\n",
       "    <tr>\n",
       "      <th>29</th>\n",
       "      <td>real_estate</td>\n",
       "      <td>169</td>\n",
       "    </tr>\n",
       "    <tr>\n",
       "      <th>30</th>\n",
       "      <td>photo_video</td>\n",
       "      <td>164</td>\n",
       "    </tr>\n",
       "    <tr>\n",
       "      <th>31</th>\n",
       "      <td>public_relations</td>\n",
       "      <td>142</td>\n",
       "    </tr>\n",
       "    <tr>\n",
       "      <th>32</th>\n",
       "      <td>sports</td>\n",
       "      <td>133</td>\n",
       "    </tr>\n",
       "    <tr>\n",
       "      <th>33</th>\n",
       "      <td>nonprofit</td>\n",
       "      <td>107</td>\n",
       "    </tr>\n",
       "    <tr>\n",
       "      <th>34</th>\n",
       "      <td>transportation</td>\n",
       "      <td>101</td>\n",
       "    </tr>\n",
       "    <tr>\n",
       "      <th>35</th>\n",
       "      <td>automotive</td>\n",
       "      <td>77</td>\n",
       "    </tr>\n",
       "    <tr>\n",
       "      <th>36</th>\n",
       "      <td>nanotech</td>\n",
       "      <td>72</td>\n",
       "    </tr>\n",
       "    <tr>\n",
       "      <th>37</th>\n",
       "      <td>design</td>\n",
       "      <td>64</td>\n",
       "    </tr>\n",
       "    <tr>\n",
       "      <th>38</th>\n",
       "      <td>legal</td>\n",
       "      <td>61</td>\n",
       "    </tr>\n",
       "    <tr>\n",
       "      <th>39</th>\n",
       "      <td>local</td>\n",
       "      <td>43</td>\n",
       "    </tr>\n",
       "    <tr>\n",
       "      <th>40</th>\n",
       "      <td>pets</td>\n",
       "      <td>29</td>\n",
       "    </tr>\n",
       "    <tr>\n",
       "      <th>41</th>\n",
       "      <td>government</td>\n",
       "      <td>11</td>\n",
       "    </tr>\n",
       "    <tr>\n",
       "      <th>42</th>\n",
       "      <td>None</td>\n",
       "      <td>0</td>\n",
       "    </tr>\n",
       "  </tbody>\n",
       "</table>\n",
       "</div>"
      ],
      "text/plain": [
       "       category_code  Count(category_code)\n",
       "0           software                  3819\n",
       "1            biotech                  2742\n",
       "2                web                  2046\n",
       "3             mobile                  1755\n",
       "4         enterprise                  1446\n",
       "5          ecommerce                  1379\n",
       "6        games_video                  1135\n",
       "7        advertising                  1037\n",
       "8           hardware                   952\n",
       "9          cleantech                   898\n",
       "10            social                   689\n",
       "11           medical                   686\n",
       "12         analytics                   648\n",
       "13            health                   626\n",
       "14           finance                   565\n",
       "15         education                   520\n",
       "16             other                   511\n",
       "17   network_hosting                   417\n",
       "18          security                   408\n",
       "19     manufacturing                   375\n",
       "20     semiconductor                   370\n",
       "21        consulting                   304\n",
       "22         messaging                   295\n",
       "23       hospitality                   288\n",
       "24            travel                   269\n",
       "25            search                   261\n",
       "26              news                   254\n",
       "27           fashion                   231\n",
       "28             music                   199\n",
       "29       real_estate                   169\n",
       "30       photo_video                   164\n",
       "31  public_relations                   142\n",
       "32            sports                   133\n",
       "33         nonprofit                   107\n",
       "34    transportation                   101\n",
       "35        automotive                    77\n",
       "36          nanotech                    72\n",
       "37            design                    64\n",
       "38             legal                    61\n",
       "39             local                    43\n",
       "40              pets                    29\n",
       "41        government                    11\n",
       "42              None                     0"
      ]
     },
     "execution_count": 259,
     "metadata": {},
     "output_type": "execute_result"
    }
   ],
   "source": [
    "visual2"
   ]
  },
  {
   "cell_type": "code",
   "execution_count": 261,
   "metadata": {},
   "outputs": [
    {
     "data": {
      "text/plain": [
       "<matplotlib.axes._subplots.AxesSubplot at 0x24554fc4668>"
      ]
     },
     "execution_count": 261,
     "metadata": {},
     "output_type": "execute_result"
    },
    {
     "data": {
      "image/png": "[encoded data removed]",
      "text/plain": [
       "<Figure size 432x288 with 1 Axes>"
      ]
     },
     "metadata": {
      "needs_background": "light"
     },
     "output_type": "display_data"
    }
   ],
   "source": [
    "\n",
    "visual2.plot(kind = 'bar')"
   ]
  },
  {
   "cell_type": "code",
   "execution_count": 262,
   "metadata": {},
   "outputs": [],
   "source": [
    "#As we can see, the most startup companies comes from California\n",
    "#the most category is software and biotech"
   ]
  },
  {
   "cell_type": "markdown",
   "metadata": {},
   "source": [
    "# Great Job!\n"
   ]
  }
 ],
 "metadata": {
  "kernelspec": {
   "display_name": "Python 3",
   "language": "python",
   "name": "python3"
  },
  "language_info": {
   "codemirror_mode": {
    "name": "ipython",
    "version": 3
   },
   "file_extension": ".py",
   "mimetype": "text/x-python",
   "name": "python",
   "nbconvert_exporter": "python",
   "pygments_lexer": "ipython3",
   "version": "3.7.3"
  }
 },
 "nbformat": 4,
 "nbformat_minor": 1
}
