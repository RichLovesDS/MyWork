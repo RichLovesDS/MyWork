{
 "cells": [
  {
   "cell_type": "code",
   "execution_count": 97,
   "metadata": {},
   "outputs": [],
   "source": [
    "import os\n",
    "import glob\n",
    "import pandas as pd\n",
    "os.chdir(\"E:\\zhesha\\Data\\Data\")"
   ]
  },
  {
   "cell_type": "code",
   "execution_count": 98,
   "metadata": {},
   "outputs": [],
   "source": [
    "extension = 'csv'\n",
    "all_filenames = [i for i in glob.glob('*.{}'.format(extension))]"
   ]
  },
  {
   "cell_type": "code",
   "execution_count": 99,
   "metadata": {},
   "outputs": [
    {
     "data": {
      "text/plain": [
       "['testscore_Kaifu__term 1.csv',\n",
       " 'testscore_Kaifu__term 2.csv',\n",
       " 'testscore_Kaifu__term 3.csv',\n",
       " 'testscore_Kaifu__term 4.csv',\n",
       " 'testscore_Kaifu__term 5.csv',\n",
       " 'testscore_Kaifu__term 6.csv',\n",
       " 'testscore_Kaifu__term 7.csv',\n",
       " 'testscore_Kaifu__term 8.csv',\n",
       " 'testscore_Sanmenxia__term 1.csv',\n",
       " 'testscore_Sanmenxia__term 2.csv',\n",
       " 'testscore_Sanmenxia__term 3.csv',\n",
       " 'testscore_Sanmenxia__term 4.csv',\n",
       " 'testscore_Sanmenxia__term 5.csv',\n",
       " 'testscore_Sanmenxia__term 6.csv',\n",
       " 'testscore_Tianxin__term 1.csv',\n",
       " 'testscore_Tianxin__term 2.csv',\n",
       " 'testscore_Tianxin__term 3.csv',\n",
       " 'testscore_Tianxin__term 4.csv',\n",
       " 'testscore_Tianxin__term 5.csv',\n",
       " 'testscore_Tianxin__term 6.csv',\n",
       " 'testscore_Tianxin__term 7.csv',\n",
       " 'testscore_Tianxin__term 8.csv']"
      ]
     },
     "execution_count": 99,
     "metadata": {},
     "output_type": "execute_result"
    }
   ],
   "source": [
    "all_filenames"
   ]
  },
  {
   "cell_type": "code",
   "execution_count": 104,
   "metadata": {},
   "outputs": [
    {
     "name": "stdout",
     "output_type": "stream",
     "text": [
      "180\n",
      "360\n",
      "540\n",
      "720\n",
      "900\n",
      "1080\n",
      "1260\n",
      "1440\n",
      "1590\n",
      "1740\n",
      "1890\n",
      "2040\n",
      "2190\n",
      "2340\n",
      "2837\n",
      "3334\n",
      "3831\n",
      "4328\n",
      "4825\n",
      "5322\n",
      "5819\n",
      "6316\n"
     ]
    }
   ],
   "source": [
    "a = 0\n",
    "for i in all_filenames:\n",
    "    df = pd.read_csv(i)\n",
    "    df.dropna(axis=0, how='any', thresh=None, subset=None, inplace=True)\n",
    "    df['standardized'] = (df['test_score'] - df['test_score'].mean())/df['test_score'].std()\n",
    "    i = (len(df))\n",
    "    a = a + i \n",
    "    print(a)\n",
    "\n",
    "\n",
    "\n"
   ]
  },
  {
   "cell_type": "code",
   "execution_count": 88,
   "metadata": {},
   "outputs": [
    {
     "data": {
      "text/html": [
       "<div>\n",
       "<style scoped>\n",
       "    .dataframe tbody tr th:only-of-type {\n",
       "        vertical-align: middle;\n",
       "    }\n",
       "\n",
       "    .dataframe tbody tr th {\n",
       "        vertical-align: top;\n",
       "    }\n",
       "\n",
       "    .dataframe thead th {\n",
       "        text-align: right;\n",
       "    }\n",
       "</style>\n",
       "<table border=\"1\" class=\"dataframe\">\n",
       "  <thead>\n",
       "    <tr style=\"text-align: right;\">\n",
       "      <th></th>\n",
       "      <th>School_code</th>\n",
       "      <th>Class_code</th>\n",
       "      <th>SudentID</th>\n",
       "      <th>Gender</th>\n",
       "      <th>term</th>\n",
       "      <th>test_date</th>\n",
       "      <th>test_score</th>\n",
       "      <th>air_condition</th>\n",
       "    </tr>\n",
       "  </thead>\n",
       "  <tbody>\n",
       "  </tbody>\n",
       "</table>\n",
       "</div>"
      ],
      "text/plain": [
       "Empty DataFrame\n",
       "Columns: [School_code, Class_code, SudentID, Gender, term, test_date, test_score, air_condition]\n",
       "Index: []"
      ]
     },
     "execution_count": 88,
     "metadata": {},
     "output_type": "execute_result"
    }
   ],
   "source": [
    "df_all = pd.DataFrame(columns = pd.read_csv('testscore_Tianxin__term 8.csv').columns)\n",
    "df_all"
   ]
  },
  {
   "cell_type": "code",
   "execution_count": 91,
   "metadata": {},
   "outputs": [
    {
     "name": "stdout",
     "output_type": "stream",
     "text": [
      "(6316, 9)\n"
     ]
    }
   ],
   "source": [
    "for i in all_filenames:\n",
    "    df = pd.read_csv(i)\n",
    "    df.dropna(axis=0, how='any', thresh=None, subset=None, inplace=True)\n",
    "    df['standardized'] = (df['test_score'] - df['test_score'].mean())/df['test_score'].std()\n",
    "    df_all = pd.concat([df_all, df], axis=0, sort=False)\n",
    "print(df_all.shape)\n",
    "    "
   ]
  },
  {
   "cell_type": "code",
   "execution_count": 92,
   "metadata": {},
   "outputs": [],
   "source": [
    "df_all.to_csv( \"combined_csv.csv\", index=False, encoding='utf-8-sig')"
   ]
  },
  {
   "cell_type": "code",
   "execution_count": null,
   "metadata": {},
   "outputs": [],
   "source": []
  }
 ],
 "metadata": {
  "kernelspec": {
   "display_name": "Python 3",
   "language": "python",
   "name": "python3"
  },
  "language_info": {
   "codemirror_mode": {
    "name": "ipython",
    "version": 3
   },
   "file_extension": ".py",
   "mimetype": "text/x-python",
   "name": "python",
   "nbconvert_exporter": "python",
   "pygments_lexer": "ipython3",
   "version": "3.7.3"
  }
 },
 "nbformat": 4,
 "nbformat_minor": 2
}
